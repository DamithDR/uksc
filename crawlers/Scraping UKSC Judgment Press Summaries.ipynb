{
 "cells": [
  {
   "cell_type": "code",
   "execution_count": 1,
   "id": "55ebd0cb",
   "metadata": {},
   "outputs": [],
   "source": [
    "#importing required libraries\n",
    "\n",
    "import requests\n",
    "from bs4 import BeautifulSoup\n",
    "import time #to add sleep"
   ]
  },
  {
   "cell_type": "code",
   "execution_count": 35,
   "id": "9efe4651",
   "metadata": {},
   "outputs": [],
   "source": [
    "# press summaries for 2023\n",
    "url = [\"https://www.supremecourt.uk/decided-cases/2023.html\"]"
   ]
  },
  {
   "cell_type": "code",
   "execution_count": 37,
   "id": "f9620c56",
   "metadata": {},
   "outputs": [
    {
     "name": "stdout",
     "output_type": "stream",
     "text": [
      "/cases/uksc-2022-0149.html\n",
      "/cases/uksc-2022-0048.html\n",
      "/cases/uksc-2022-0083.html\n",
      "/cases/uksc-2021-0201.html\n",
      "/cases/uksc-2021-0208.html\n",
      "/cases/uksc-2022-0046.html\n",
      "/cases/uksc-2022-0021.html\n",
      "/cases/uksc-2022-0102.html\n",
      "/cases/uksc-2021-0212.html\n",
      "/cases/uksc-2021-0155.html\n",
      "/cases/uksc-2023-0093.html\n",
      "/cases/uksc-2021-0139.html\n",
      "/cases/uksc-2022-0066.html\n",
      "/cases/uksc-2021-0152.html\n",
      "/cases/uksc-2021-0233.html\n",
      "/cases/uksc-2022-0007.html\n",
      "/cases/uksc-2020-0212.html\n",
      "/cases/uksc-2021-0189.html\n",
      "/cases/uksc-2022-0004.html\n",
      "/cases/uksc-2019-0204.html\n",
      "/cases/uksc-2021-0085.html\n",
      "/cases/uksc-2022-0022.html\n",
      "/cases/uksc-2021-0120.html\n",
      "/cases/uksc-2021-0010.html\n",
      "/cases/uksc-2021-0078.html\n",
      "/cases/uksc-2021-0087.html\n",
      "/cases/uksc-2021-0149.html\n",
      "/cases/uksc-2022-0075.html\n",
      "/cases/uksc-2020-0208.html\n",
      "/cases/uksc-2021-0195.html\n",
      "/cases/uksc-2021-0159.html\n",
      "/cases/uksc-2021-0125.html\n",
      "/cases/uksc-2021-0038.html\n",
      "/cases/uksc-2021-0144.html\n",
      "/cases/uksc-2021-0138.html\n",
      "/cases/uksc-2021-0056.html\n",
      "/cases/uksc-2021-0050.html\n",
      "/cases/uksc-2021-0089.html\n",
      "/cases/uksc-2022-0056.html\n",
      "/cases/uksc-2022-0052.html\n",
      "/cases/uksc-2021-0216.html\n",
      "/cases/uksc-2018-0192.html\n",
      "/cases/uksc-2018-0191.html\n",
      "/cases/uksc-2021-0019.html\n",
      "/cases/uksc-2021-0188.html\n",
      "/cases/uksc-2021-0031.html\n",
      "/cases/uksc-2021-0047.html\n",
      "/cases/uksc-2021-0059.html\n",
      "/cases/uksc-2022-0089.html\n",
      "/cases/uksc-2022-0093.html\n",
      "/cases/uksc-2020-0056.html\n",
      "/cases/uksc-2020-0002.html\n",
      "/cases/uksc-2021-0027.html\n",
      "/cases/uksc-2021-0028.html\n"
     ]
    }
   ],
   "source": [
    "#to obtain the judgments in each case:\n",
    "#obtaining the relative url to each case in each year\n",
    "\n",
    "case_links4 = [] #empty list to store the (relative) links to each case in each year\n",
    "\n",
    "for i in url:\n",
    "    page = requests.get(i)\n",
    "    soup = BeautifulSoup(page.content,\"html.parser\")\n",
    "    #print(i)\n",
    "    \n",
    "    test_links = soup.find_all(class_=\"fifthColumn\") #2024 is fourthColumn\n",
    "    #print(test_links)\n",
    "\n",
    "    for link in test_links:\n",
    "        case = link.find(\"a\", class_=\"more\") #get relative link\n",
    "        if (case != None):\n",
    "            print(case[\"href\"])\n",
    "        case_links4.append(case[\"href\"])\n",
    "        time.sleep(2)"
   ]
  },
  {
   "cell_type": "code",
   "execution_count": 44,
   "id": "ed1440bb",
   "metadata": {},
   "outputs": [],
   "source": [
    "#preparing the global url for each case\n",
    "\n",
    "globalurls4 = [] #empty list to store the global urls\n",
    "globurl = \"https://www.supremecourt.uk\"\n",
    "\n",
    "for i in case_links4:\n",
    "    caseLink = globurl + i #appending the relative links to the global url\n",
    "    globalurls4.append(caseLink) #appending all global urls to one list"
   ]
  },
  {
   "cell_type": "code",
   "execution_count": 45,
   "id": "ea8e938d",
   "metadata": {},
   "outputs": [
    {
     "data": {
      "text/plain": [
       "54"
      ]
     },
     "execution_count": 45,
     "metadata": {},
     "output_type": "execute_result"
    }
   ],
   "source": [
    "len(globalurls4)"
   ]
  },
  {
   "cell_type": "code",
   "execution_count": 48,
   "id": "27eeb8be",
   "metadata": {},
   "outputs": [
    {
     "name": "stdout",
     "output_type": "stream",
     "text": [
      "Found Press Summary PDF: /cases/docs/uksc-2022-0148-0149-press-summary.pdf\n",
      "Found Press Summary PDF: /cases/docs/uksc-2022-0048-press-summary.pdf\n",
      "Found Press Summary PDF: /cases/docs/uksc-2022-0083-press-summary.pdf\n",
      "Found Press Summary PDF: /cases/docs/uksc-2021-0201-press-summary.pdf\n",
      "Found Press Summary PDF: /cases/docs/uksc-2021-0208-press-summary.pdf\n",
      "Found Press Summary PDF: /cases/docs/uksc-2022-0046-press-summary.pdf\n",
      "Found Press Summary PDF: /cases/docs/uksc-2022-0021-0168-press-summary.pdf\n",
      "Found Press Summary PDF: /cases/docs/uksc-2022-0102-press-summary.pdf\n",
      "Found Press Summary PDF: /cases/docs/uksc-2021-0212-0213-press-summary.pdf\n",
      "Found Press Summary PDF: /cases/docs/uksc-2021-0155-press-summary.pdf\n",
      "Found Press Summary PDF: /cases/docs/uksc-2023-0093-press-summary.pdf\n",
      "Found Press Summary PDF: /cases/docs/uksc-2021-0139-press-summary.pdf\n",
      "Found Press Summary PDF: /cases/docs/uksc-2022-0066-press-summary.pdf\n",
      "Found Press Summary PDF: /cases/docs/uksc-2021-0152-press-summary.pdf\n",
      "Found Press Summary PDF: /cases/docs/uksc-2021-0233-press-summary.pdf\n",
      "Found Press Summary PDF: /cases/docs/uksc-2022-0007-press-summary.pdf\n",
      "Found Press Summary PDF: /cases/docs/uksc-2020-0212-press-summary.pdf\n",
      "Found Press Summary PDF: /cases/docs/uksc-2021-0189-press-summary.pdf\n",
      "Found Press Summary PDF: /cases/docs/uksc-2022-0004-press-summary.pdf\n",
      "Found Press Summary PDF: /cases/docs/uksc-2019-0204-press-summary.pdf\n",
      "Found Press Summary PDF: /press-summary/uksc-2021-0085.html\n",
      "Found Press Summary PDF: /press-summary/uksc-2022-0022.html\n",
      "Found Press Summary PDF: /press-summary/uksc-2021-0120.html\n",
      "Found Press Summary PDF: /press-summary/uksc-2021-0010.html\n",
      "Found Press Summary PDF: /press-summary/uksc-2021-0078.html\n",
      "Found Press Summary PDF: /press-summary/uksc-2021-0087.html\n",
      "Found Press Summary PDF: /press-summary/uksc-2021-0149.html\n",
      "Found Press Summary PDF: /press-summary/uksc-2022-0075.html\n",
      "Found Press Summary PDF: /press-summary/uksc-2020-0208.html\n",
      "Found Press Summary PDF: /press-summary/uksc-2021-0195.html\n",
      "Found Press Summary PDF: /press-summary/uksc-2021-0159.html\n",
      "Found Press Summary PDF: /press-summary/uksc-2021-0125.html\n",
      "Found Press Summary PDF: /press-summary/uksc-2021-0038.html\n",
      "Found Press Summary PDF: /press-summary/uksc-2021-0144.html\n",
      "Found Press Summary PDF: /press-summary/uksc-2021-0138.html\n",
      "Found Press Summary PDF: /press-summary/uksc-2021-0056.html\n",
      "Found Press Summary PDF: /cases/docs/uksc-2021-0050-press-summary-v2.pdf\n",
      "Found Press Summary PDF: /press-summary/uksc-2021-0089.html\n",
      "Found Press Summary PDF: /press-summary/uksc-2022-0056.html\n",
      "Found Press Summary PDF: /press-summary/uksc-2022-0052.html\n",
      "Found Press Summary PDF: /press-summary/uksc-2021-0216.html\n",
      "Found Press Summary PDF: /press-summary/uksc-2018-0191-0192.html\n",
      "Found Press Summary PDF: /press-summary/uksc-2018-0191-0192.html\n",
      "Found Press Summary PDF: /press-summary/uksc-2021-0019.html\n",
      "Found Press Summary PDF: /press-summary/uksc-2021-0188.html\n",
      "Found Press Summary PDF: /press-summary/uksc-2021-0031.html\n",
      "Found Press Summary PDF: /press-summary/uksc-2021-0047.html\n",
      "Found Press Summary PDF: /press-summary/uksc-2021-0059.html\n",
      "Found Press Summary PDF: /press-summary/uksc-2022-0089-0093.html\n",
      "Found Press Summary PDF: /press-summary/uksc-2022-0089-0093.html\n",
      "Found Press Summary PDF: /press-summary/uksc-2020-0056.html\n",
      "Found Press Summary PDF: /press-summary/uksc-2020-0002.html\n",
      "Found Press Summary PDF: /press-summary/uksc-2021-0027.html\n",
      "Found Press Summary PDF: /press-summary/uksc-2021-0028.html\n"
     ]
    }
   ],
   "source": [
    "#having prepared the global urls to each case, the link to the press summary of each judgment in each case is extracted: \n",
    "\n",
    "press_pdf = []\n",
    "\n",
    "for i in globalurls4:\n",
    "    page = requests.get(i)\n",
    "    soup = BeautifulSoup(page.content, \"html.parser\")\n",
    "    \n",
    "    # Search for either \"Press Summary\" or \"Press Summary (PDF)\"\n",
    "    text = soup.find(\"a\", title=lambda title: title in [\"Press Summary\", \"Press Summary (PDF)\"])\n",
    "    \n",
    "    if text is not None:\n",
    "        print(f\"Found Press Summary PDF: {text['href']}\")\n",
    "        press_pdf.append(text[\"href\"])\n",
    "    else:\n",
    "        print(f\"The Press Summary (PDF) is not available in {i}\")\n",
    "    \n",
    "    time.sleep(3)"
   ]
  },
  {
   "cell_type": "code",
   "execution_count": 51,
   "id": "b2a18dc1",
   "metadata": {},
   "outputs": [
    {
     "data": {
      "text/plain": [
       "54"
      ]
     },
     "execution_count": 51,
     "metadata": {},
     "output_type": "execute_result"
    }
   ],
   "source": [
    "len(press_pdf)"
   ]
  },
  {
   "cell_type": "code",
   "execution_count": 52,
   "id": "4110f14a",
   "metadata": {},
   "outputs": [],
   "source": [
    "#preparing the global urls for the press summaries\n",
    "\n",
    "global_pressUrl = \"https://www.supremecourt.uk\"\n",
    "\n",
    "pressUrls = [] #list to store the global urls to all the judgement PDFs\n",
    "\n",
    "for i in press_pdf:\n",
    "    pressLink = global_pressUrl + i #appending the relative links to the global url\n",
    "    pressUrls.append(pressLink) #appending all global urls to one list"
   ]
  },
  {
   "cell_type": "code",
   "execution_count": 53,
   "id": "2fd1f6ad",
   "metadata": {},
   "outputs": [
    {
     "data": {
      "text/plain": [
       "54"
      ]
     },
     "execution_count": 53,
     "metadata": {},
     "output_type": "execute_result"
    }
   ],
   "source": [
    "len(pressUrls)"
   ]
  },
  {
   "cell_type": "code",
   "execution_count": 54,
   "id": "fb3d71ce",
   "metadata": {},
   "outputs": [],
   "source": [
    "# save the pdf files \n",
    "\n",
    "import urllib.request\n",
    "import os\n",
    "\n",
    "ukscP_folder = \"./UKSC_PressSum2023\"\n",
    "if not os.path.exists(ukscP_folder): #check if \"UKSC_PressSum folder exists\"\n",
    "    os.makedirs(ukscP_folder) #if it does not, create a new folder called titled Dataset_UKSC\n",
    "\n",
    "for i in pressUrls:\n",
    "    filename = i.split(\"/\")[-1] #[-1 indicates that the last portion divided by \"/\" is to be used to name]\n",
    "    filepath = os.path.join(ukscP_folder, filename)\n",
    "    urllib.request.urlretrieve(i, filepath)\n",
    "    time.sleep(3)\n",
    "\n",
    "#https://www.tutorialspoint.com/downloading-files-from-web-using-python\n",
    "#used to identify how to extract filename from link\n",
    "\n",
    "#https://docs.python.org/3/library/urllib.request.html"
   ]
  },
  {
   "cell_type": "code",
   "execution_count": null,
   "id": "3953552a",
   "metadata": {},
   "outputs": [],
   "source": []
  },
  {
   "cell_type": "code",
   "execution_count": null,
   "id": "082f7ea2",
   "metadata": {},
   "outputs": [],
   "source": []
  }
 ],
 "metadata": {
  "kernelspec": {
   "display_name": "Python 3 (ipykernel)",
   "language": "python",
   "name": "python3"
  },
  "language_info": {
   "codemirror_mode": {
    "name": "ipython",
    "version": 3
   },
   "file_extension": ".py",
   "mimetype": "text/x-python",
   "name": "python",
   "nbconvert_exporter": "python",
   "pygments_lexer": "ipython3",
   "version": "3.11.5"
  }
 },
 "nbformat": 4,
 "nbformat_minor": 5
}
